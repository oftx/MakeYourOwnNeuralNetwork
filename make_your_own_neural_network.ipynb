{
 "cells": [
  {
   "cell_type": "code",
   "execution_count": 2,
   "id": "5c178913-85c9-4ecb-b4fc-eacb6ff079bd",
   "metadata": {},
   "outputs": [],
   "source": [
    "import scipy.special\n",
    "import numpy"
   ]
  },
  {
   "cell_type": "code",
   "execution_count": 65,
   "id": "f9deb23f-e281-4150-8c39-fa5631b8e74b",
   "metadata": {},
   "outputs": [],
   "source": [
    "class neuralNetwork:\n",
    "    def __init__(self, inputnodes, hiddennodes, outputnodes, learningrate):\n",
    "        self.inodes = inputnodes\n",
    "        self.hnodes = hiddennodes\n",
    "        self.onodes = outputnodes\n",
    "\n",
    "        self.lr = learningrate\n",
    "\n",
    "        self.wih = numpy.random.normal(0, pow(self.hnodes, -0.5), (self.hnodes, self.inodes))\n",
    "        self.who = numpy.random.normal(0, pow(self.onodes, -0.5), (self.onodes, self.hnodes))\n",
    "\n",
    "        self.activation_function = lambda x: scipy.special.expit(x)\n",
    "\n",
    "    def train(self, inputs_list, targets_list):\n",
    "        inputs = numpy.array(inputs_list, ndmin=2).T\n",
    "        targets = numpy.array(targets_list, ndmin=2).T\n",
    "        \n",
    "        hidden_inputs = numpy.dot(self.wih, inputs)\n",
    "        hidden_outputs = self.activation_function(hidden_inputs)\n",
    "\n",
    "        final_inputs = numpy.dot(self.who, hidden_outputs)\n",
    "        final_outputs = self.activation_function(final_inputs)\n",
    "\n",
    "        # 分割误差\n",
    "        output_errors = targets - final_outputs\n",
    "        hidden_errors = numpy.dot(self.who.T, output_errors)\n",
    "\n",
    "        # 更新权重\n",
    "        self.who += self.lr * numpy.dot(output_errors * final_outputs \\\n",
    "                    * (1 - final_outputs), numpy.transpose(hidden_outputs))\n",
    "        self.wih += self.lr * numpy.dot(hidden_errors * hidden_outputs \\\n",
    "                    * (1 - hidden_outputs), numpy.transpose(inputs))\n",
    "\n",
    "    def query(self, inputs_list):\n",
    "        inputs = numpy.array(inputs_list, ndmin=2).T\n",
    "        \n",
    "        hidden_inputs = numpy.dot(self.wih, inputs)\n",
    "        hidden_outputs = self.activation_function(hidden_inputs)\n",
    "\n",
    "        final_inputs = numpy.dot(self.who, hidden_outputs)\n",
    "        final_outputs = self.activation_function(final_inputs)\n",
    "\n",
    "        return final_outputs"
   ]
  },
  {
   "cell_type": "code",
   "execution_count": 66,
   "id": "0702129a-3980-4c6d-93ef-0fb4fa05f450",
   "metadata": {},
   "outputs": [],
   "source": [
    "input_nodes = 784\n",
    "hidden_nodes = 200\n",
    "output_nodes = 10\n",
    "\n",
    "learning_rate = 0.1\n",
    "\n",
    "n = neuralNetwork(input_nodes, hidden_nodes, output_nodes, learning_rate)"
   ]
  },
  {
   "cell_type": "code",
   "execution_count": 67,
   "id": "5df1a65b-6160-47cb-9ab8-ab225cb75128",
   "metadata": {},
   "outputs": [
    {
     "name": "stdout",
     "output_type": "stream",
     "text": [
      "训练完成\n"
     ]
    }
   ],
   "source": [
    "# 加载训练数据\n",
    "training_data_file = open(\"mnist_dataset/mnist_train.csv\", 'r')\n",
    "training_data_list = training_data_file.readlines()\n",
    "training_data_file.close()\n",
    "\n",
    "epochs = 1\n",
    "\n",
    "# 训练神经网络\n",
    "for e in range(epochs):\n",
    "    for record in training_data_list:\n",
    "        all_values = record.split(',')\n",
    "        inputs = numpy.asarray(all_values[1:], dtype=float) / 255 * 0.99 + 0.01\n",
    "        targets = numpy.zeros(output_nodes) + 0.01\n",
    "        targets[int(all_values[0])] = 0.99\n",
    "        n.train(inputs, targets)\n",
    "\n",
    "print('训练完成')"
   ]
  },
  {
   "cell_type": "code",
   "execution_count": 68,
   "id": "30ab6cdb-4b38-47a3-b88c-d3af5d12bae5",
   "metadata": {},
   "outputs": [
    {
     "name": "stdout",
     "output_type": "stream",
     "text": [
      "Performance = 0.9601\n"
     ]
    }
   ],
   "source": [
    "scorecard = []\n",
    "\n",
    "# 加载测试数据\n",
    "test_data_file = open(\"mnist_dataset/mnist_test.csv\", 'r')\n",
    "test_data_list = test_data_file.readlines()\n",
    "test_data_file.close()\n",
    "\n",
    "# 测试神经网络\n",
    "for record in test_data_list:\n",
    "    all_values = record.split(',')\n",
    "    inputs = numpy.asarray(all_values[1:], dtype=float) / 255 * 0.99 + 0.01\n",
    "    outputs = n.query(inputs)\n",
    "    correct_label = int(all_values[0])\n",
    "    label = numpy.argmax(outputs)  # result = outputs.tolist().index(max(outputs))\n",
    "    is_correct = correct_label == label\n",
    "    # print(f\"Result: {label}    Answer:{correct_label}    Correct:{is_correct}\")\n",
    "    scorecard.append(1) if is_correct else scorecard.append(0)\n",
    "\n",
    "scorecard_array = numpy.asarray(scorecard)\n",
    "print(f\"Performance = {scorecard_array.sum() / scorecard_array.size}\")"
   ]
  },
  {
   "cell_type": "code",
   "execution_count": 74,
   "id": "801da6a4-41e7-4040-a7e7-2cacc0376d23",
   "metadata": {},
   "outputs": [
    {
     "data": {
      "image/png": "[encoded data removed]",
      "text/plain": [
       "<Figure size 640x480 with 1 Axes>"
      ]
     },
     "metadata": {},
     "output_type": "display_data"
    },
    {
     "name": "stdout",
     "output_type": "stream",
     "text": [
      "[[0.084331  ]\n",
      " [0.0087905 ]\n",
      " [0.06377938]\n",
      " [0.07438881]\n",
      " [0.00497359]\n",
      " [0.11555829]\n",
      " [0.06057943]\n",
      " [0.02283134]\n",
      " [0.68937908]\n",
      " [0.08293705]]\n",
      "Result: 8\n"
     ]
    }
   ],
   "source": [
    "# 使用自定义手写数字对神经网络进行测试\n",
    "from PIL import Image\n",
    "import matplotlib.pyplot as plt\n",
    "import numpy\n",
    "\n",
    "# 读取图片\n",
    "img_path = './numbers/number8.jpg'\n",
    "img = Image.open(img_path)\n",
    "\n",
    "# 缩放为28x28\n",
    "img = img.resize((28, 28))\n",
    "\n",
    "# 转为灰度图像\n",
    "img = img.convert('L')\n",
    "\n",
    "# 将图像转为numpy数组\n",
    "img_array = numpy.array(img)\n",
    "\n",
    "# 确保值在[0,255]范围内\n",
    "img_array = numpy.clip(img_array, 0, 255)\n",
    "\n",
    "# 使用matplotlib显示图像\n",
    "plt.imshow(img_array, cmap='gray')\n",
    "plt.axis('off')  # 隐藏坐标轴\n",
    "plt.show()\n",
    "\n",
    "# 测试神经网络\n",
    "# Flatten the 28x28 array to a 1D array of 784 elements\n",
    "inputs = numpy.asarray(img_array, dtype=float).flatten() / 255 * 0.99 + 0.01\n",
    "outputs = n.query(inputs)\n",
    "print(outputs)\n",
    "label = numpy.argmax(outputs)\n",
    "print(f'Result: {label}')"
   ]
  }
 ],
 "metadata": {
  "kernelspec": {
   "display_name": "Python 3 (ipykernel)",
   "language": "python",
   "name": "python3"
  },
  "language_info": {
   "codemirror_mode": {
    "name": "ipython",
    "version": 3
   },
   "file_extension": ".py",
   "mimetype": "text/x-python",
   "name": "python",
   "nbconvert_exporter": "python",
   "pygments_lexer": "ipython3",
   "version": "3.13.1"
  }
 },
 "nbformat": 4,
 "nbformat_minor": 5
}
