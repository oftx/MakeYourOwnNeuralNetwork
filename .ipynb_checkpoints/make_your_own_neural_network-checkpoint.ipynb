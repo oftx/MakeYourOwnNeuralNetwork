{
 "cells": [
  {
   "cell_type": "code",
   "execution_count": null,
   "id": "f9deb23f-e281-4150-8c39-fa5631b8e74b",
   "metadata": {},
   "outputs": [],
   "source": [
    "class neuralNetwork:\n",
    "    def __init__():\n",
    "        pass\n",
    "\n",
    "    def train():\n",
    "        pass\n",
    "\n",
    "    def query():\n",
    "        pass"
   ]
  }
 ],
 "metadata": {
  "kernelspec": {
   "display_name": "Python 3 (ipykernel)",
   "language": "python",
   "name": "python3"
  },
  "language_info": {
   "codemirror_mode": {
    "name": "ipython",
    "version": 3
   },
   "file_extension": ".py",
   "mimetype": "text/x-python",
   "name": "python",
   "nbconvert_exporter": "python",
   "pygments_lexer": "ipython3",
   "version": "3.13.1"
  }
 },
 "nbformat": 4,
 "nbformat_minor": 5
}
